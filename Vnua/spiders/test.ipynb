{
 "cells": [
  {
   "cell_type": "code",
   "execution_count": 5,
   "metadata": {},
   "outputs": [
    {
     "name": "stdout",
     "output_type": "stream",
     "text": [
      "\n",
      "        Học viện Nông nghiệp Việt Nam ký biên bản ghi nhớ hợp tác với Hiệp hội sân golf Nhật Bản\n",
      "    \n",
      "2023-10-27 16:42:00\n",
      "Ngày 25/10, Học viện Nông nghiệp Việt Nam ký kết thỏa thuận hợp tác với Hiệp hội sân golf Nhật Bản. Sự kiện này nhằm thúc đẩy hợp tác giữa Học viện với Hiệp hội sân golf Nhật Bản và hai bên thảo luận để xây dựng chương trình đào tạo về quản lý sân golf, chăm sóc cỏ ở sân golf tại Học viện. Tham dự chương trình có: Ông Takakuwa Ty - Chủ tịch Hiệp hội quản lý sân Golf - Nhật Bản; Ông Morikawa Hideyu - Phó chủ tịch thường trực Hiệp hội quản lý sân Golf - Nhật Bản; Ông Iguchi Haruo - Giám đốc Hiệp hội quản lý sân Golf - Nhật Bản; Ông Konuma Tatsuo - Chánh văn phòng (Tổng thư kí) Hiệp hội quản lý sân Golf - Nhật Bản; Ông Masuno Kinjiro - Chủ tịch Công ty NPO Yasashinano (Hiệp hội giao lưu tỉnh Nagano và Việt Nam); Ông Shima Kouichi - Giám đốc Nghiệp đoàn Kansei Japan (Hiệp hội giao lưu tỉnh Nagano - Việt Nam). Về phía Học viện có: GS.TS. Trần Đức Viên - Chủ tịch Hội đồng Khoa học và Đào tạo Học viện; TS. Vũ Ngọc Huyên - Phó Bí thư Thường trực Đảng ủy, Phó Chủ tịch phụ trách Hội đồng Học viện, Phó Giám đốc Học viện; PGS.TS. Nguyễn Việt Long - Trưởng ban Hợp tác quốc tế; Ông Nguyễn Xuân Cừ - Giám đốc Trung tâm giáo dục thể chất thể thao; Ông Nguyễn Xuân Đài - Giám đốc TT Dịch vụ - Công ty VNUA-IDS, Trưởng ban Quản trị TT CUNNL; các đồng chí trong đoàn công tác của Hiệp hội quản lý sân Golf - Nhật Bản, lãnh đạo các khoa, ban chức năng của Học viện và TT Dịch vụ - Công ty VNUA-IDS, TT Cung ứng nguồn nhân lực. Phát biểu tại chương trình, TS. Vũ Ngọc Huyên - Phó Bí thư Thường trực Đảng ủy, Phó Chủ tịch phụ trách Hội đồng Học viện, Phó Giám đốc Học viện cho biết: “Học viện trân trọng cảm ơn sự kết nối giúp đỡ của ông Masuno Kinjiro - Chủ tịch Công ty NPO Yasashinano và các đồng chí trong đoàn công tác đã dành cho Học viện, ông Masuno Kinjiro đã hỗ trợ cho sinh viên của Học viện được sang Nhật Bản làm việc theo ngành sân golf để giúp cho các bạn thoát khỏi khó khăn, nghèo khó. Hiện nay, Học viện đã có quy hoạch của để có khu Viện đào tạo golf khoảng 3,1 ha trong đó có sân tập 9 lỗ để đưa vào đào tạo. Học viện dự kiến đào tạo bộ môn golf với 02 học phần được đưa vào chương trình đào tạo vào trong năm học tới. Viện đào tạo golf được nhiều đơn vị quan tâm, dự kiến đầu năm 2024 có thể khai trương, Học viện mong muốn được Hiệp hội sân golf Nhật Bản hỗ trợ về dụng cụ cho Học viện để phục vụ đào tạo bộ môn golf”. Cũng tại chương trình, quý vị đại biểu tham dự đã chia sẻ, thảo luận các nội dung hợp tác giữa Học viện và Công ty, trong đó ông Masuno Kinjiro - Chủ tịch Công ty NPO Yasashinano trân trọng cảm ơn sự đón tiếp nồng hậu của Học viện dành cho đoàn công tác và chia sẻ: “Công ty NPO Yasashinano là tổ chức giới thiệu việc làm miễn phí và được nhận hỗ trợ từ những tổ chức khác với chức năng như: trao đổi, tư vấn, kết nối tìm kiếm công việc cho người nước ngoài. Công ty NPO Yasashinano hiện nay có mối liên hệ mật thiết với tỉnh Nagano và Đại sứ quán Việt Nam đang thường trú tại Nhật Bản và Hiệp hội quản lý sân golf – Nhật Bản. Công ty NPO Yasashinano mong rằng sẽ xây dựng thành công chương trình hợp tác và chương trình sẽ giúp thắt chặt thêm quan hệ hợp tác giữa Học viện và công ty “. Phát biểu tại chương trình, GS.TS. Trần Đức Viên - Chủ tịch Hội đồng Khoa học và Đào tạo Học viện đề nghị hai bên cần làm rõ nội dung về hệ kỹ sư quản lý sân golf và Green keepper. Học viện hiện nay chưa có ngành đào tạo về quản lý sân golf hay chăm sóc cỏ ở sân golf, nên có thể xây dựng chương trình đào tạo ở cả hai nước về ngành golf và mong muốn phía Hiệp hội có thể hỗ trợ về chương trình đào tạo golf cho Học viện. Chương trình ký kết thỏa thuận hợp tác giữa Hiệp hội sân golf Nhật Bản và Học viện là các hoạt động thiết thực, ý nghĩa nhằm thúc đẩy hợp tác trong lĩnh việc đào tạo, nghiên cứu để phục vụ nhu cầu của thị trường và doanh nghiệp. Sinh viên Học viện sẽ được thụ hưởng chương trình đào tạo về quản lý sân golf, chăm sóc cỏ ở sân golf ở đẳng cấp quốc tế, từ đó sẽ nâng cao chất lượng đào tạo cho sinh viên của Học viện xứng tầm trong khu vực và trên thế giới. Các thế mạnh của Học viện trong đào tạo và nghiên cứu khoa học cũng sẽ giúp Công ty xây dựng đề án, phát triển các sản phẩm khác để thương mại hóa và phục vụ xã hội./.\n",
      "None\n",
      "https://vnua.edu.vn/tin-tuc-su-kien/hop-tac/hoc-vien-nong-nghiep-viet-nam-ky-bien-ban-ghi-nho-hop-tac-voi-hiep-hoi-san-golf-nhat-ban-55389\n"
     ]
    }
   ],
   "source": [
    "\n",
    "import requests\n",
    "from scrapy.http import TextResponse\n",
    "from datetime import datetime\n",
    "import dateparser\n",
    "res = requests.get(\"https://vnua.edu.vn/tin-tuc-su-kien/hop-tac/hoc-vien-nong-nghiep-viet-nam-ky-bien-ban-ghi-nho-hop-tac-voi-hiep-hoi-san-golf-nhat-ban-55389\")\n",
    "response = TextResponse(res.url, body=res.text, encoding='utf-8')\n",
    "\n",
    "products = response.css('.col-sm-9')\n",
    "title = response.css('h1.post-title::text').get()\n",
    "datetime_str = response.css('.lbPublishedDate::text').get().replace('\\r\\n            Cập nhật lúc ','')\n",
    "datetime_obj = dateparser.parse(datetime_str, languages=['vi'])\n",
    "content = response.css('div.post-content p::text').getall()\n",
    "cleaned_content = [text.strip() for text in content if text.strip()]\n",
    "cleaned_content = ' '.join(cleaned_content).strip()\n",
    "image_url = response.css('img.img-auto::attr(scr)').extract_first()\n",
    "if image_url == None:\n",
    "    image_url = response.css('img.imgtelerik::attr(scr)').extract_first()\n",
    "news_url = response.url\n",
    "    \n",
    "print(title)\n",
    "print(datetime_obj)\n",
    "print(cleaned_content)\n",
    "print(image_url)\n",
    "print(news_url)"
   ]
  },
  {
   "cell_type": "code",
   "execution_count": 6,
   "metadata": {},
   "outputs": [
    {
     "ename": "NameError",
     "evalue": "name 'links' is not defined",
     "output_type": "error",
     "traceback": [
      "\u001b[1;31m---------------------------------------------------------------------------\u001b[0m",
      "\u001b[1;31mNameError\u001b[0m                                 Traceback (most recent call last)",
      "\u001b[1;32mc:\\Users\\Viet\\Desktop\\Vnua\\Vnua\\spiders\\test.ipynb Cell 2\u001b[0m line \u001b[0;36m1\n\u001b[0;32m     <a href='vscode-notebook-cell:/c%3A/Users/Viet/Desktop/Vnua/Vnua/spiders/test.ipynb#W1sZmlsZQ%3D%3D?line=12'>13</a>\u001b[0m                 \u001b[39mreturn\u001b[39;00m\n\u001b[0;32m     <a href='vscode-notebook-cell:/c%3A/Users/Viet/Desktop/Vnua/Vnua/spiders/test.ipynb#W1sZmlsZQ%3D%3D?line=13'>14</a>\u001b[0m             \u001b[39mself\u001b[39m\u001b[39m.\u001b[39mvisited_urls\u001b[39m.\u001b[39madd(link)\n\u001b[1;32m---> <a href='vscode-notebook-cell:/c%3A/Users/Viet/Desktop/Vnua/Vnua/spiders/test.ipynb#W1sZmlsZQ%3D%3D?line=15'>16</a>\u001b[0m \u001b[39mprint\u001b[39m(links)     \n",
      "\u001b[1;31mNameError\u001b[0m: name 'links' is not defined"
     ]
    }
   ],
   "source": [
    "import scrapy\n",
    "\n",
    "class LinkspiderVnuaSpider(scrapy.Spider):\n",
    "    name = \"linkspider_vnua\"\n",
    "    allowed_domains = [\"www.vnua.edu.vn\"]\n",
    "    start_urls = [\"https://vnua.edu.vn/tin-tuc-su-kien\"]\n",
    "    visited_urls = set()\n",
    "\n",
    "    def parse(self, response):\n",
    "        links = response.css('a.img-auto::attr(href)').getall()\n",
    "        for link in links:\n",
    "            if link in self.visited_urls:\n",
    "                return\n",
    "            self.visited_urls.add(link)\n",
    "            \n",
    "print(links)     \n"
   ]
  },
  {
   "cell_type": "markdown",
   "metadata": {},
   "source": []
  }
 ],
 "metadata": {
  "kernelspec": {
   "display_name": "venv",
   "language": "python",
   "name": "python3"
  },
  "language_info": {
   "codemirror_mode": {
    "name": "ipython",
    "version": 3
   },
   "file_extension": ".py",
   "mimetype": "text/x-python",
   "name": "python",
   "nbconvert_exporter": "python",
   "pygments_lexer": "ipython3",
   "version": "3.12.0"
  }
 },
 "nbformat": 4,
 "nbformat_minor": 2
}
